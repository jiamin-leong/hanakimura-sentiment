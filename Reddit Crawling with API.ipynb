{
 "cells": [
  {
   "cell_type": "code",
   "execution_count": 7,
   "metadata": {},
   "outputs": [],
   "source": [
    "import praw\n",
    "import datetime\n",
    "import time\n",
    "import os\n",
    "filepath = './TerraceHouse/'"
   ]
  },
  {
   "cell_type": "code",
   "execution_count": 8,
   "metadata": {},
   "outputs": [],
   "source": [
    "# client_id and client_secret should be your own \n",
    "reddit = praw.Reddit(client_id='<insert-client-id>',\n",
    "                     client_secret='<insert-client-secret>',\n",
    "                     user_agent='my user agent')"
   ]
  },
  {
   "cell_type": "code",
   "execution_count": 9,
   "metadata": {},
   "outputs": [],
   "source": [
    "def write_to_file(filepath, filename, comment_list):\n",
    "    # Writing to file\n",
    "    record_file = open(filepath + str(filename), 'a')\n",
    "    \n",
    "    for comment in comment_list:\n",
    "        record_file.write(comment[0] + '\\t')\n",
    "        record_file.write(comment[1] + '\\t')\n",
    "        record_file.write(comment[2] + '\\t')\n",
    "        record_file.write(comment[3] + '\\t')\n",
    "        record_file.write(comment[4] + '\\t')\n",
    "        record_file.write(comment[5])\n",
    "        record_file.write('\\n')\n",
    "    \n",
    "    record_file.close()"
   ]
  },
  {
   "cell_type": "code",
   "execution_count": 10,
   "metadata": {},
   "outputs": [],
   "source": [
    "def process_comments(title, objects, comment_hierarchy):    \n",
    "    for object in objects:\n",
    "        if type(object).__name__ == \"Comment\":\n",
    "            comment = []\n",
    "            \n",
    "            comment_date = int(object.created)\n",
    "            \n",
    "            # append values that we want into the comment list, each list is an 'object'\n",
    "            comment.append(title)\n",
    "            comment.append('level ' + str(comment_hierarchy))\n",
    "            comment.append(str(object.author))\n",
    "            comment.append(str(object.score) + ' points')\n",
    "            comment.append(str(object.body).replace('\\n', ''))\n",
    "            comment.append(datetime.datetime.fromtimestamp(comment_date).strftime('%Y-%m-%d'))\n",
    "            \n",
    "            # append a completed comment into the comment_list, declared in the submission loop \n",
    "            comment_list.append(comment)\n",
    "                        \n",
    "            if(object.replies.__len__() >= 0):\n",
    "                process_comments(title, object.replies, comment_hierarchy + 1) # Get replies of comment\n",
    "      \n",
    "        elif type(object).__name__ == \"MoreComments\":\n",
    "            process_comments(title, object.comments(), 1) # Get more comments at top level"
   ]
  },
  {
   "cell_type": "code",
   "execution_count": 11,
   "metadata": {},
   "outputs": [],
   "source": [
    "# submission = reddit.submission(id='91317x')\n",
    "\n",
    "subreddit = reddit.subreddit('terracehouse')\n",
    "search_terms = ['hana']\n",
    "\n",
    "for term in search_terms:\n",
    "    filename = term + '.tsv'\n",
    "    record_file = open(filepath + filename, 'a')\n",
    "    record_file.write('initial_title\\tcomment_hierarchy\\tuserhandle\\tcomment_popularity\\tuser_post\\tcomment_date\\n')\n",
    "    record_file.close()\n",
    "    for submission in subreddit.search(term):\n",
    "        \n",
    "        comment_list = []\n",
    "        process_comments(submission.title, submission.comments, 1)\n",
    "        \n",
    "        # every search term will create a tsv with the same name\n",
    "        write_to_file(filepath, filename, comment_list)\n",
    "        \n",
    "        time.sleep(.500) # sleep 500ms to prevent flooding the api endpoint\n"
   ]
  },
  {
   "cell_type": "code",
   "execution_count": null,
   "metadata": {},
   "outputs": [],
   "source": []
  }
 ],
 "metadata": {
  "kernelspec": {
   "display_name": "Python 3",
   "language": "python",
   "name": "python3"
  },
  "language_info": {
   "codemirror_mode": {
    "name": "ipython",
    "version": 3
   },
   "file_extension": ".py",
   "mimetype": "text/x-python",
   "name": "python",
   "nbconvert_exporter": "python",
   "pygments_lexer": "ipython3",
   "version": "3.8.3"
  }
 },
 "nbformat": 4,
 "nbformat_minor": 2
}
